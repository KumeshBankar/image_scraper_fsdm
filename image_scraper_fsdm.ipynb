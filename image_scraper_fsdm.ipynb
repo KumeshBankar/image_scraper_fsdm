{
 "cells": [
  {
   "cell_type": "code",
   "execution_count": 4,
   "id": "6e054f13",
   "metadata": {},
   "outputs": [],
   "source": [
    "import requests\n",
    "import logging\n",
    "import os\n",
    "from bs4 import BeautifulSoup\n",
    "from urllib.request import urlopen"
   ]
  },
  {
   "cell_type": "code",
   "execution_count": 5,
   "id": "6c385495",
   "metadata": {},
   "outputs": [],
   "source": [
    "save_dir=\"images/\"\n",
    "if not os.path.exists(save_dir):\n",
    "    os.makedirs(save_dir)"
   ]
  },
  {
   "cell_type": "code",
   "execution_count": 20,
   "id": "d0e31b92",
   "metadata": {
    "scrolled": true
   },
   "outputs": [],
   "source": [
    "query=\"elon musk\""
   ]
  },
  {
   "cell_type": "code",
   "execution_count": 21,
   "id": "4323b883",
   "metadata": {},
   "outputs": [],
   "source": [
    "response=requests.get(f\"https://www.google.com/search?q={query}&sca_esv=576056213&hl=en&tbm=isch&source=lnms&sa=X&ved=2ahUKEwjg1o3Yr46CAxXKklYBHX3TDoYQ_AUoAnoECAEQBA&cshid=1698139962104507&biw=1536&bih=707&dpr=1.25\")"
   ]
  },
  {
   "cell_type": "code",
   "execution_count": 22,
   "id": "51ee81b9",
   "metadata": {},
   "outputs": [
    {
     "data": {
      "text/plain": [
       "<Response [200]>"
      ]
     },
     "execution_count": 22,
     "metadata": {},
     "output_type": "execute_result"
    }
   ],
   "source": [
    "response"
   ]
  },
  {
   "cell_type": "code",
   "execution_count": 24,
   "id": "aadc9d3c",
   "metadata": {},
   "outputs": [],
   "source": [
    "soup=BeautifulSoup(response.content,\"html.parser\")"
   ]
  },
  {
   "cell_type": "code",
   "execution_count": 25,
   "id": "56095307",
   "metadata": {},
   "outputs": [
    {
     "data": {
      "text/plain": [
       "<!DOCTYPE html PUBLIC \"-//WAPFORUM//DTD XHTML Mobile 1.0//EN\" \"http://www.wapforum.org/DTD/xhtml-mobile10.dtd\">\n",
       "<html lang=\"en-IN\" xmlns=\"http://www.w3.org/1999/xhtml\"><head><meta content=\"application/xhtml+xml; charset=utf-8\" http-equiv=\"Content-Type\"/><meta content=\"no-cache\" name=\"Cache-Control\"/><title>elon musk - Google Search</title><style>a{text-decoration:none;color:inherit}a:hover{text-decoration:underline}a img{border:0}body{font-family:arial,sans-serif;padding:8px;margin:0 auto;max-width:700px;min-width:240px;}.FbhRzb{border-left:thin solid #dadce0;border-right:thin solid #dadce0;border-top:thin solid #dadce0;height:40px;overflow:hidden}.n692Zd{margin-bottom:10px}.cvifge{height:40px;border-spacing:0}.QvGUP{height:40px;padding:0 8px 0 8px;vertical-align:top}.O4cRJf{height:40px;width:100%;padding:0;padding-right:16px}.O1ePr{height:40px;padding:0;vertical-align:top}.kgJEQe{height:36px;width:98px;vertical-align:top;margin-top:4px}.lXLRf{vertical-align:top}.MhzMZd{border:0;vertical-align:middle;font-size:14px;height:40px;padding:0;width:100%;padding-left:16px}.xB0fq{height:40px;border:none;font-size:14px;background-color:#1a73e8;color:#fff;padding:0 16px;margin:0;vertical-align:top;cursor:pointer}.xB0fq:focus{border:1px solid #1a73e8}.M7pB2{border:thin solid #dadce0;margin:0 0 3px 0;font-size:13px;font-weight:500;height:40px}.euZec{width:100%;height:40px;text-align:center;border-spacing:0}table.euZec td{padding:0;width:25%}.QIqI7{display:inline-block;padding-top:4px;font-weight:bold;color:#4285f4}.EY24We{border-bottom:2px solid #4285f4}.CsQyDc{display:inline-block;color:#70757a}.TuS8Ad{font-size:14px}.HddGcc{padding:8px;color:#70757a}.dzp8ae{font-weight:bold;color:#3c4043}.rEM8G{color:#70757a}.bookcf{table-layout:fixed;width:100%;border-spacing:0}.InWNIe{text-align:center}.uZgmoc{border:thin solid #dadce0;color:#70757a;font-size:14px;text-align:center;table-layout:fixed;width:100%}.frGj1b{display:block;padding:12px 0 12px 0;width:100%}.BnJWBc{text-align:center;padding:6px 0 13px 0;height:35px}.e3goi{vertical-align:top;padding:0;height:180px}.GpQGbf{margin:auto;border-collapse:collapse;border-spacing:0;width:100%}</style></head><body><style>.X6ZCif{color:#202124;font-size:11px;line-height:16px;display:inline-block;padding-top:2px;overflow:hidden;padding-bottom:4px;width:100%}.TwVfHd{border-radius:16px;border:thin solid #dadce0;display:inline-block;padding:8px 8px;margin-right:8px;margin-bottom:4px}.yekiAe{background-color:#dadce0}.jjVJ4e{width:100%}.ezO2md{border:thin solid #dadce0;padding:12px 16px 12px 16px;margin-bottom:10px;font-family:arial,sans-serif}.lIMUZd{font-family:arial,sans-serif}.RntSmf{border-spacing:0}.lgD2Tc{width:100%}.SpelHe{text-align:center}.SpelHe{position:relative}.deHqpb{bottom:0;left:0;margin:auto;position:absolute;right:0;top:0}.kCmkOe{position:relative}.ID6Z3b{background-image:url(https://www.gstatic.com/search_trustx/visibility_off_icon_p0-7d897bf44bafe5436baa9009e8716337.png);background-repeat:no-repeat;background-position:center;background-size:20px}.kCmkOe{width:162px;height:140px;line-height:140px;overflow:'hidden';text-align:center}.DS1iW{text-align:center;margin:auto;vertical-align:middle;max-width:162px;max-height:140px}.AlD19d{padding-top:2px;padding-bottom:8px;}.fYyStc{word-break:break-word}.ynsChf{display:block;white-space:nowrap;overflow:hidden;text-overflow:ellipsis}.Fj3V3b{color:#1967d2;font-size:14px;line-height:20px}.FrIlee{color:#202124;font-size:11px;line-height:16px}.F9iS2e{color:#70757a;font-size:11px;line-height:16px}.WMQ2Le{color:#70757a;font-size:12px;line-height:16px}.x3G5ab{color:#202124;font-size:12px;line-height:16px}.fuLhoc{color:#1967d2;font-size:16px;line-height:20px}.epoveb{font-size:24px;line-height:28px;font-weight:400;color:#202124}.dXDvrc{color:#0d652d;font-size:14px;line-height:20px;word-wrap:break-word}.dloBPe{font-weight:bold}.YVIcad{color:#70757a}.JkVVdd{color:#ea4335}.oXZRFd{color:#ea4335}.MQHtg{color:#fbbc04}.pyMRrb{color:#1e8e3e}.EtTZid{color:#1e8e3e}.M3vVJe{color:#1967d2}.qXLe6d{display:block}.NHQNef{font-style:italic}.Cb8Z7c{white-space:pre}a.ZWRArf{text-decoration:none}a .CVA68e:hover{text-decoration:underline}</style><div class=\"n692Zd\"><div class=\"BnJWBc\"><a class=\"lXLRf\" href=\"/?sa=X&amp;sca_esv=576056213&amp;hl=en&amp;biw=1536&amp;bih=707&amp;output=images&amp;ie=UTF-8&amp;tbm=isch&amp;ved=0ahUKEwi-lNqEs46CAxXs8jgGHQ0JAWgQPAgC\"><img alt=\"Google\" class=\"kgJEQe\" src=\"/images/branding/searchlogo/1x/googlelogo_desk_heirloom_color_150x55dp.gif\"/></a></div><div class=\"FbhRzb\"><form action=\"/search\"><input name=\"sca_esv\" type=\"hidden\" value=\"576056213\"/><input name=\"hl\" type=\"hidden\" value=\"en\"/><input name=\"biw\" type=\"hidden\" value=\"1536\"/><input name=\"bih\" type=\"hidden\" value=\"707\"/><input name=\"ie\" type=\"hidden\" value=\"ISO-8859-1\"/><input name=\"tbm\" type=\"hidden\" value=\"isch\"/><input name=\"oq\" type=\"hidden\"/><input name=\"aqs\" type=\"hidden\"/><table class=\"cvifge\"><tr><td class=\"O4cRJf\"><input class=\"MhzMZd\" name=\"q\" type=\"text\" value=\"elon musk\"/></td><td class=\"O1ePr\"><input class=\"xB0fq\" type=\"submit\" value=\"Search\"/></td></tr></table></form></div><div class=\"M7pB2\"><table class=\"euZec\"><tbody><tr><td><a class=\"CsQyDc\" href=\"/search?q=elon+musk&amp;sca_esv=576056213&amp;hl=en&amp;biw=1536&amp;bih=707&amp;ie=UTF-8&amp;source=lnms&amp;sa=X&amp;ved=0ahUKEwi-lNqEs46CAxXs8jgGHQ0JAWgQ_AUIBCgA\">ALL</a></td><td><a class=\"CsQyDc\" href=\"/search?q=elon+musk&amp;sca_esv=576056213&amp;hl=en&amp;biw=1536&amp;bih=707&amp;ie=UTF-8&amp;tbm=nws&amp;source=lnms&amp;sa=X&amp;ved=0ahUKEwi-lNqEs46CAxXs8jgGHQ0JAWgQ_AUIBSgB\">NEWS</a></td><td class=\"EY24We\"><span class=\"QIqI7\">IMAGES</span></td><td><a class=\"CsQyDc\" href=\"/search?q=elon+musk&amp;sca_esv=576056213&amp;hl=en&amp;biw=1536&amp;bih=707&amp;ie=UTF-8&amp;tbm=vid&amp;source=lnms&amp;sa=X&amp;ved=0ahUKEwi-lNqEs46CAxXs8jgGHQ0JAWgQ_AUIBygD\">VIDEOS</a></td></tr></tbody></table></div></div><div class=\"X6ZCif\"><a class=\"TwVfHd\" href=\"/search?sca_esv=576056213&amp;hl=en&amp;biw=1536&amp;bih=707&amp;ie=UTF-8&amp;tbm=isch&amp;q=elon+musk&amp;chips=q:elon+musk,g_1:tesla&amp;sa=X&amp;ved=0ahUKEwi-lNqEs46CAxXs8jgGHQ0JAWgQ4lYICygA\">tesla</a><a class=\"TwVfHd\" href=\"/search?sca_esv=576056213&amp;hl=en&amp;biw=1536&amp;bih=707&amp;ie=UTF-8&amp;tbm=isch&amp;q=elon+musk&amp;chips=q:elon+musk,g_1:spacex&amp;sa=X&amp;ved=0ahUKEwi-lNqEs46CAxXs8jgGHQ0JAWgQ4lYIDCgB\">spacex</a><a class=\"TwVfHd\" href=\"/search?sca_esv=576056213&amp;hl=en&amp;biw=1536&amp;bih=707&amp;ie=UTF-8&amp;tbm=isch&amp;q=elon+musk&amp;chips=q:elon+musk,g_1:rocket&amp;sa=X&amp;ved=0ahUKEwi-lNqEs46CAxXs8jgGHQ0JAWgQ4lYIDSgC\">rocket</a><a class=\"TwVfHd\" href=\"/search?sca_esv=576056213&amp;hl=en&amp;biw=1536&amp;bih=707&amp;ie=UTF-8&amp;tbm=isch&amp;q=elon+musk&amp;chips=q:elon+musk,g_1:wallpaper&amp;sa=X&amp;ved=0ahUKEwi-lNqEs46CAxXs8jgGHQ0JAWgQ4lYIDigD\">wallpaper</a><a class=\"TwVfHd\" href=\"/search?sca_esv=576056213&amp;hl=en&amp;biw=1536&amp;bih=707&amp;ie=UTF-8&amp;tbm=isch&amp;q=elon+musk&amp;chips=q:elon+musk,g_1:car&amp;sa=X&amp;ved=0ahUKEwi-lNqEs46CAxXs8jgGHQ0JAWgQ4lYIDygE\">car</a><a class=\"TwVfHd\" href=\"/search?sca_esv=576056213&amp;hl=en&amp;biw=1536&amp;bih=707&amp;ie=UTF-8&amp;tbm=isch&amp;q=elon+musk&amp;chips=q:elon+musk,g_1:grimes&amp;sa=X&amp;ved=0ahUKEwi-lNqEs46CAxXs8jgGHQ0JAWgQ4lYIECgF\">grimes</a><a class=\"TwVfHd\" href=\"/search?sca_esv=576056213&amp;hl=en&amp;biw=1536&amp;bih=707&amp;ie=UTF-8&amp;tbm=isch&amp;q=elon+musk&amp;chips=q:elon+musk,g_1:twitter&amp;sa=X&amp;ved=0ahUKEwi-lNqEs46CAxXs8jgGHQ0JAWgQ4lYIESgG\">twitter</a><a class=\"TwVfHd\" href=\"/search?sca_esv=576056213&amp;hl=en&amp;biw=1536&amp;bih=707&amp;ie=UTF-8&amp;tbm=isch&amp;q=elon+musk&amp;chips=q:elon+musk,g_1:paypal&amp;sa=X&amp;ved=0ahUKEwi-lNqEs46CAxXs8jgGHQ0JAWgQ4lYIEigH\">paypal</a><a class=\"TwVfHd\" href=\"/search?sca_esv=576056213&amp;hl=en&amp;biw=1536&amp;bih=707&amp;ie=UTF-8&amp;tbm=isch&amp;q=elon+musk&amp;chips=q:elon+musk,g_1:early&amp;sa=X&amp;ved=0ahUKEwi-lNqEs46CAxXs8jgGHQ0JAWgQ4lYIEygI\">early</a><a class=\"TwVfHd\" href=\"/search?sca_esv=576056213&amp;hl=en&amp;biw=1536&amp;bih=707&amp;ie=UTF-8&amp;tbm=isch&amp;q=elon+musk&amp;chips=q:elon+musk,g_1:old&amp;sa=X&amp;ved=0ahUKEwi-lNqEs46CAxXs8jgGHQ0JAWgQ4lYIFCgJ\">old</a></div><div><table class=\"GpQGbf\"><tr><td align=\"center\" class=\"e3goi\"><div class=\"jjVJ4e\"> <div> <div class=\"lIMUZd\"><div><table class=\"RntSmf\"><tr><td><a href=\"/url?q=https://www.ndtv.com/world-news/elon-musk-willing-to-offer-1-billion-to-wikipedia-if-it-changes-name-to-4505917&amp;sa=U&amp;ved=2ahUKEwi-lNqEs46CAxXs8jgGHQ0JAWgQqoUBegQIARAB&amp;usg=AOvVaw1vGhVOdTDzOCst_7W9q1Cl\"><div class=\"kCmkOe\"><img alt=\"\" class=\"DS1iW\" src=\"https://encrypted-tbn0.gstatic.com/images?q=tbn:ANd9GcSC7st5ShUDWADPVkP7Pr0Py1KtnzUAtUAXgpqtCzbirxLvz3BhjH-CNqBm3PE&amp;s\"/></div></a></td></tr><tr><td><a href=\"/url?q=https://www.ndtv.com/world-news/elon-musk-willing-to-offer-1-billion-to-wikipedia-if-it-changes-name-to-4505917&amp;sa=U&amp;ved=2ahUKEwi-lNqEs46CAxXs8jgGHQ0JAWgQr4kDegQIARAC&amp;usg=AOvVaw1KbkHMUL_CZPFw2f0x6USL\"><div class=\"AlD19d\"> <span class=\"qXLe6d x3G5ab\"> <span class=\"fYyStc\">Elon Musk Willing To Offer...</span> </span> <span class=\"qXLe6d F9iS2e\"> <span class=\"fYyStc\">www.ndtv.com</span> </span> </div></a></td></tr></table></div></div> </div> </div></td><td align=\"center\" class=\"e3goi\"><div class=\"jjVJ4e\"> <div> <div class=\"lIMUZd\"><div><table class=\"RntSmf\"><tr><td><a href=\"/url?q=https://www.business-standard.com/world-news/elon-musk-says-he-will-give-1-bn-to-wikipedia-if-it-changes-its-name-123102300768_1.html&amp;sa=U&amp;ved=2ahUKEwi-lNqEs46CAxXs8jgGHQ0JAWgQqoUBegQIExAB&amp;usg=AOvVaw1HDMczZAPwt2XFqnUJjCif\"><div class=\"kCmkOe\"><img alt=\"\" class=\"DS1iW\" src=\"https://encrypted-tbn0.gstatic.com/images?q=tbn:ANd9GcRz-uP5ZNLPcT_0NN-9PUKWg2kpbYbnMybBYHR5FQ8GfZhPLV1DL0AdSRMC0A&amp;s\"/></div></a></td></tr><tr><td><a href=\"/url?q=https://www.business-standard.com/world-news/elon-musk-says-he-will-give-1-bn-to-wikipedia-if-it-changes-its-name-123102300768_1.html&amp;sa=U&amp;ved=2ahUKEwi-lNqEs46CAxXs8jgGHQ0JAWgQr4kDegQIExAC&amp;usg=AOvVaw0EnavCP-yoot7iTxrT5-8v\"><div class=\"AlD19d\"> <span class=\"qXLe6d x3G5ab\"> <span class=\"fYyStc\">Elon Musk says he will give...</span> </span> <span class=\"qXLe6d F9iS2e\"> <span class=\"fYyStc\">www.business-standard.com</span> </span> </div></a></td></tr></table></div></div> </div> </div></td><td align=\"center\" class=\"e3goi\"><div class=\"jjVJ4e\"> <div> <div class=\"lIMUZd\"><div><table class=\"RntSmf\"><tr><td><a href=\"/url?q=https://en.wikipedia.org/wiki/Elon_Musk&amp;sa=U&amp;ved=2ahUKEwi-lNqEs46CAxXs8jgGHQ0JAWgQqoUBegQIEhAB&amp;usg=AOvVaw1kpmhfOEGjMdXrXO6AbUkU\"><div class=\"kCmkOe\"><img alt=\"\" class=\"DS1iW\" src=\"https://encrypted-tbn0.gstatic.com/images?q=tbn:ANd9GcQ91bYeYuNi93Snai-G61-ct5IkXUEpoeW1RpiOFFuRWggNeJf-7uN0OZsy5XI&amp;s\"/></div></a></td></tr><tr><td><a href=\"/url?q=https://en.wikipedia.org/wiki/Elon_Musk&amp;sa=U&amp;ved=2ahUKEwi-lNqEs46CAxXs8jgGHQ0JAWgQr4kDegQIEhAC&amp;usg=AOvVaw2Nzk1zwf-OsuKlRm1A5ohB\"><div class=\"AlD19d\"> <span class=\"qXLe6d x3G5ab\"> <span class=\"fYyStc\">Elon Musk - Wikipedia</span> </span> <span class=\"qXLe6d F9iS2e\"> <span class=\"fYyStc\">en.wikipedia.org</span> </span> </div></a></td></tr></table></div></div> </div> </div></td><td align=\"center\" class=\"e3goi\"><div class=\"jjVJ4e\"> <div> <div class=\"lIMUZd\"><div><table class=\"RntSmf\"><tr><td><a href=\"/url?q=https://www.britannica.com/biography/Elon-Musk&amp;sa=U&amp;ved=2ahUKEwi-lNqEs46CAxXs8jgGHQ0JAWgQqoUBegQIDRAB&amp;usg=AOvVaw26L6XDFTmr2CWv69KjPDyo\"><div class=\"kCmkOe\"><img alt=\"\" class=\"DS1iW\" src=\"https://encrypted-tbn0.gstatic.com/images?q=tbn:ANd9GcS6mPr1g683xgMlTnJfswzPyIjixDUJCLKR_GUOYd43dGj0LB8Uum64r_cOjl4&amp;s\"/></div></a></td></tr><tr><td><a href=\"/url?q=https://www.britannica.com/biography/Elon-Musk&amp;sa=U&amp;ved=2ahUKEwi-lNqEs46CAxXs8jgGHQ0JAWgQr4kDegQIDRAC&amp;usg=AOvVaw3xGj37_u_R469YI7-bIVk4\"><div class=\"AlD19d\"> <span class=\"qXLe6d x3G5ab\"> <span class=\"fYyStc\">Elon Musk | Biography,...</span> </span> <span class=\"qXLe6d F9iS2e\"> <span class=\"fYyStc\">www.britannica.com</span> </span> </div></a></td></tr></table></div></div> </div> </div></td></tr><tr><td align=\"center\" class=\"e3goi\"><div class=\"jjVJ4e\"> <div> <div class=\"lIMUZd\"><div><table class=\"RntSmf\"><tr><td><a href=\"/url?q=https://www.britannica.com/biography/Elon-Musk&amp;sa=U&amp;ved=2ahUKEwi-lNqEs46CAxXs8jgGHQ0JAWgQqoUBegQIDhAB&amp;usg=AOvVaw0akDzn_Z0n6-140TF1eKJJ\"><div class=\"kCmkOe\"><img alt=\"\" class=\"DS1iW\" src=\"https://encrypted-tbn0.gstatic.com/images?q=tbn:ANd9GcQY_R5NSNoZkSlMo3hf86COGJ4fCv0s6Nx4k8uCGkWc6YGOn_m4-rIOQ3GhOhg&amp;s\"/></div></a></td></tr><tr><td><a href=\"/url?q=https://www.britannica.com/biography/Elon-Musk&amp;sa=U&amp;ved=2ahUKEwi-lNqEs46CAxXs8jgGHQ0JAWgQr4kDegQIDhAC&amp;usg=AOvVaw1KvkVlocgT8QhZZVaPVWdG\"><div class=\"AlD19d\"> <span class=\"qXLe6d x3G5ab\"> <span class=\"fYyStc\">Elon Musk | Biography,...</span> </span> <span class=\"qXLe6d F9iS2e\"> <span class=\"fYyStc\">www.britannica.com</span> </span> </div></a></td></tr></table></div></div> </div> </div></td><td align=\"center\" class=\"e3goi\"><div class=\"jjVJ4e\"> <div> <div class=\"lIMUZd\"><div><table class=\"RntSmf\"><tr><td><a href=\"/url?q=https://qz.com/elon-musk-has-made-x-twitter-all-about-him-just-look-1850935423&amp;sa=U&amp;ved=2ahUKEwi-lNqEs46CAxXs8jgGHQ0JAWgQqoUBegQIDxAB&amp;usg=AOvVaw32WjMxjJQhFSyB2c0Wh8n3\"><div class=\"kCmkOe\"><img alt=\"\" class=\"DS1iW\" src=\"https://encrypted-tbn0.gstatic.com/images?q=tbn:ANd9GcQXNS5G3mbD-dKcWQ_dfdmEN7nP9tS159qmk666X5ThE40niKI7hB4rzC-obgU&amp;s\"/></div></a></td></tr><tr><td><a href=\"/url?q=https://qz.com/elon-musk-has-made-x-twitter-all-about-him-just-look-1850935423&amp;sa=U&amp;ved=2ahUKEwi-lNqEs46CAxXs8jgGHQ0JAWgQr4kDegQIDxAC&amp;usg=AOvVaw2GNdQW62HZc5JSjECdi3F3\"><div class=\"AlD19d\"> <span class=\"qXLe6d x3G5ab\"> <span class=\"fYyStc\">Elon Musk has made X...</span> </span> <span class=\"qXLe6d F9iS2e\"> <span class=\"fYyStc\">qz.com</span> </span> </div></a></td></tr></table></div></div> </div> </div></td><td align=\"center\" class=\"e3goi\"><div class=\"jjVJ4e\"> <div> <div class=\"lIMUZd\"><div><table class=\"RntSmf\"><tr><td><a href=\"/url?q=https://www.cnbctv18.com/technology/elon-musk-offers-1-billion-dollars-to-wikipedia-but-on-one-condition-18133751.htm&amp;sa=U&amp;ved=2ahUKEwi-lNqEs46CAxXs8jgGHQ0JAWgQqoUBegQIERAB&amp;usg=AOvVaw1IUu-_g_f7SD7552PmXLrp\"><div class=\"kCmkOe\"><img alt=\"\" class=\"DS1iW\" src=\"https://encrypted-tbn0.gstatic.com/images?q=tbn:ANd9GcQaV7Sae1fG40nqL4bBbt2RhLdbGzhHQkRLbMXbgiM8UhHfS9q1a6zLDQgzgIA&amp;s\"/></div></a></td></tr><tr><td><a href=\"/url?q=https://www.cnbctv18.com/technology/elon-musk-offers-1-billion-dollars-to-wikipedia-but-on-one-condition-18133751.htm&amp;sa=U&amp;ved=2ahUKEwi-lNqEs46CAxXs8jgGHQ0JAWgQr4kDegQIERAC&amp;usg=AOvVaw2xQo4vQ7dhNTpslntinv--\"><div class=\"AlD19d\"> <span class=\"qXLe6d x3G5ab\"> <span class=\"fYyStc\">Elon Musk offers $1 billion...</span> </span> <span class=\"qXLe6d F9iS2e\"> <span class=\"fYyStc\">www.cnbctv18.com</span> </span> </div></a></td></tr></table></div></div> </div> </div></td><td align=\"center\" class=\"e3goi\"><div class=\"jjVJ4e\"> <div> <div class=\"lIMUZd\"><div><table class=\"RntSmf\"><tr><td><a href=\"/url?q=https://variety.com/2023/digital/news/x-twitter-charge-users-one-dollar-per-year-test-1235760066/&amp;sa=U&amp;ved=2ahUKEwi-lNqEs46CAxXs8jgGHQ0JAWgQqoUBegQIEBAB&amp;usg=AOvVaw3l46-Cdm5hvg4nVlWNSVV_\"><div class=\"kCmkOe\"><img alt=\"\" class=\"DS1iW\" src=\"https://encrypted-tbn0.gstatic.com/images?q=tbn:ANd9GcTZMlyvCY8vz7fnBapM-PlJJ98Fjuge8gjD0ccQv6OZFLf0AukDECQCSSFNgLM&amp;s\"/></div></a></td></tr><tr><td><a href=\"/url?q=https://variety.com/2023/digital/news/x-twitter-charge-users-one-dollar-per-year-test-1235760066/&amp;sa=U&amp;ved=2ahUKEwi-lNqEs46CAxXs8jgGHQ0JAWgQr4kDegQIEBAC&amp;usg=AOvVaw1zm09wZes1U21Jt5fZUJAY\"><div class=\"AlD19d\"> <span class=\"qXLe6d x3G5ab\"> <span class=\"fYyStc\">Elon Musk's X/Twitter to...</span> </span> <span class=\"qXLe6d F9iS2e\"> <span class=\"fYyStc\">variety.com</span> </span> </div></a></td></tr></table></div></div> </div> </div></td></tr><tr><td align=\"center\" class=\"e3goi\"><div class=\"jjVJ4e\"> <div> <div class=\"lIMUZd\"><div><table class=\"RntSmf\"><tr><td><a href=\"/url?q=https://www.businesstoday.in/technology/news/story/impressive-elon-musk-applauds-surge-of-indian-origin-ceos-in-global-business-landscape-395838-2023-08-27&amp;sa=U&amp;ved=2ahUKEwi-lNqEs46CAxXs8jgGHQ0JAWgQqoUBegQIDBAB&amp;usg=AOvVaw1EXda3aWiMLaHDV7q_1N-p\"><div class=\"kCmkOe\"><img alt=\"\" class=\"DS1iW\" src=\"https://encrypted-tbn0.gstatic.com/images?q=tbn:ANd9GcTfjDBSFpfbFc6eTBoYM7jYZwkO-F4FBddeRlmz_8fBWXOHtEnGleF5higjr1E&amp;s\"/></div></a></td></tr><tr><td><a href=\"/url?q=https://www.businesstoday.in/technology/news/story/impressive-elon-musk-applauds-surge-of-indian-origin-ceos-in-global-business-landscape-395838-2023-08-27&amp;sa=U&amp;ved=2ahUKEwi-lNqEs46CAxXs8jgGHQ0JAWgQr4kDegQIDBAC&amp;usg=AOvVaw2YgXj3jxKh8SbJy2GPP8q3\"><div class=\"AlD19d\"> <span class=\"qXLe6d x3G5ab\"> <span class=\"fYyStc\">Impressive': Elon Musk...</span> </span> <span class=\"qXLe6d F9iS2e\"> <span class=\"fYyStc\">www.businesstoday.in</span> </span> </div></a></td></tr></table></div></div> </div> </div></td><td align=\"center\" class=\"e3goi\"><div class=\"jjVJ4e\"> <div> <div class=\"lIMUZd\"><div><table class=\"RntSmf\"><tr><td><a href=\"/url?q=https://m.economictimes.com/tech/technology/x-will-soon-charge-users-a-small-monthly-payment-elon-musk/articleshow/103777424.cms&amp;sa=U&amp;ved=2ahUKEwi-lNqEs46CAxXs8jgGHQ0JAWgQqoUBegQIChAB&amp;usg=AOvVaw3QhC_GdqhzPC9ogXZPOagU\"><div class=\"kCmkOe\"><img alt=\"\" class=\"DS1iW\" src=\"https://encrypted-tbn0.gstatic.com/images?q=tbn:ANd9GcSqPTro4aFCG4Q0meJtTUD6hTHpOB9ftUxTMg-qO5j6SpFoO0VBXPCOhQVOpa8&amp;s\"/></div></a></td></tr><tr><td><a href=\"/url?q=https://m.economictimes.com/tech/technology/x-will-soon-charge-users-a-small-monthly-payment-elon-musk/articleshow/103777424.cms&amp;sa=U&amp;ved=2ahUKEwi-lNqEs46CAxXs8jgGHQ0JAWgQr4kDegQIChAC&amp;usg=AOvVaw0656uRY7kdu_3TKniI75qJ\"><div class=\"AlD19d\"> <span class=\"qXLe6d x3G5ab\"> <span class=\"fYyStc\">elon musk: X will soon...</span> </span> <span class=\"qXLe6d F9iS2e\"> <span class=\"fYyStc\">m.economictimes.com</span> </span> </div></a></td></tr></table></div></div> </div> </div></td><td align=\"center\" class=\"e3goi\"><div class=\"jjVJ4e\"> <div> <div class=\"lIMUZd\"><div><table class=\"RntSmf\"><tr><td><a href=\"/url?q=https://gu.wikipedia.org/wiki/%25E0%25AA%258F%25E0%25AA%25B2%25E0%25AB%258B%25E0%25AA%25A8_%25E0%25AA%25AE%25E0%25AA%25B8%25E0%25AB%258D%25E0%25AA%2595&amp;sa=U&amp;ved=2ahUKEwi-lNqEs46CAxXs8jgGHQ0JAWgQqoUBegQICRAB&amp;usg=AOvVaw00CXiqxcangkaFQpmzyu9M\"><div class=\"kCmkOe\"><img alt=\"\" class=\"DS1iW\" src=\"https://encrypted-tbn0.gstatic.com/images?q=tbn:ANd9GcQEoGcTehPfBt44vuvC8wyJieRSiGKWqDO2UHbGG34cRttKR5nGr_NDLJHg_1s&amp;s\"/></div></a></td></tr><tr><td><a href=\"/url?q=https://gu.wikipedia.org/wiki/%25E0%25AA%258F%25E0%25AA%25B2%25E0%25AB%258B%25E0%25AA%25A8_%25E0%25AA%25AE%25E0%25AA%25B8%25E0%25AB%258D%25E0%25AA%2595&amp;sa=U&amp;ved=2ahUKEwi-lNqEs46CAxXs8jgGHQ0JAWgQr4kDegQICRAC&amp;usg=AOvVaw1wxPLqB0vdbCygqTXSBMqn\"><div class=\"AlD19d\"> <span class=\"qXLe6d x3G5ab\"> <span class=\"fYyStc\">એલોન મસ્ક - વિકિપીડિયા</span> </span> <span class=\"qXLe6d F9iS2e\"> <span class=\"fYyStc\">gu.wikipedia.org</span> </span> </div></a></td></tr></table></div></div> </div> </div></td><td align=\"center\" class=\"e3goi\"><div class=\"jjVJ4e\"> <div> <div class=\"lIMUZd\"><div><table class=\"RntSmf\"><tr><td><a href=\"/url?q=https://finance.yahoo.com/news/elon-musk-acted-little-baby-160535804.html&amp;sa=U&amp;ved=2ahUKEwi-lNqEs46CAxXs8jgGHQ0JAWgQqoUBegQICxAB&amp;usg=AOvVaw0tKZRpAwi0LIO87fBJY18I\"><div class=\"kCmkOe\"><img alt=\"\" class=\"DS1iW\" src=\"https://encrypted-tbn0.gstatic.com/images?q=tbn:ANd9GcTdE_Bh1hrPdBpcb2uRNA3hWXqPoXQkYA_8PYTSUorFS7kkMRiiYfd_pS7cNnM&amp;s\"/></div></a></td></tr><tr><td><a href=\"/url?q=https://finance.yahoo.com/news/elon-musk-acted-little-baby-160535804.html&amp;sa=U&amp;ved=2ahUKEwi-lNqEs46CAxXs8jgGHQ0JAWgQr4kDegQICxAC&amp;usg=AOvVaw0QC94O0h69YMM32sF3E0HM\"><div class=\"AlD19d\"> <span class=\"qXLe6d x3G5ab\"> <span class=\"fYyStc\">Elon Musk acted like a...</span> </span> <span class=\"qXLe6d F9iS2e\"> <span class=\"fYyStc\">finance.yahoo.com</span> </span> </div></a></td></tr></table></div></div> </div> </div></td></tr><tr><td align=\"center\" class=\"e3goi\"><div class=\"jjVJ4e\"> <div> <div class=\"lIMUZd\"><div><table class=\"RntSmf\"><tr><td><a href=\"/url?q=https://www.livemint.com/opinion/columns/elon-musk-may-have-overplayed-his-hand-on-twitter-11651076331483.html&amp;sa=U&amp;ved=2ahUKEwi-lNqEs46CAxXs8jgGHQ0JAWgQqoUBegQIBxAB&amp;usg=AOvVaw2PlaOZGdieHtzwuIYbM9Db\"><div class=\"kCmkOe\"><img alt=\"\" class=\"DS1iW\" src=\"https://encrypted-tbn0.gstatic.com/images?q=tbn:ANd9GcQLX6huxvMD0JGqh3jnWiYWG50itISJVGqnuJzZAWTIeXgxpgAQYZE460Nulg&amp;s\"/></div></a></td></tr><tr><td><a href=\"/url?q=https://www.livemint.com/opinion/columns/elon-musk-may-have-overplayed-his-hand-on-twitter-11651076331483.html&amp;sa=U&amp;ved=2ahUKEwi-lNqEs46CAxXs8jgGHQ0JAWgQr4kDegQIBxAC&amp;usg=AOvVaw3Q8uegcuqmAjfO0fY4hwjS\"><div class=\"AlD19d\"> <span class=\"qXLe6d x3G5ab\"> <span class=\"fYyStc\">Elon Musk may have...</span> </span> <span class=\"qXLe6d F9iS2e\"> <span class=\"fYyStc\">www.livemint.com</span> </span> </div></a></td></tr></table></div></div> </div> </div></td><td align=\"center\" class=\"e3goi\"><div class=\"jjVJ4e\"> <div> <div class=\"lIMUZd\"><div><table class=\"RntSmf\"><tr><td><a href=\"/url?q=https://www.biography.com/business-leaders/elon-musk&amp;sa=U&amp;ved=2ahUKEwi-lNqEs46CAxXs8jgGHQ0JAWgQqoUBegQIAxAB&amp;usg=AOvVaw3d1HylfsVlb4Ny-rhnrF7J\"><div class=\"kCmkOe\"><img alt=\"\" class=\"DS1iW\" src=\"https://encrypted-tbn0.gstatic.com/images?q=tbn:ANd9GcSWquD3V9PShopfxR5z4mBgB3IZnXGWVDSQM_48N0nbiI_0DYg43GVIktea3Uc&amp;s\"/></div></a></td></tr><tr><td><a href=\"/url?q=https://www.biography.com/business-leaders/elon-musk&amp;sa=U&amp;ved=2ahUKEwi-lNqEs46CAxXs8jgGHQ0JAWgQr4kDegQIAxAC&amp;usg=AOvVaw2kbE-Dunh5UrHkYxHz7IrG\"><div class=\"AlD19d\"> <span class=\"qXLe6d x3G5ab\"> <span class=\"fYyStc\">Elon Musk - Tesla, Age &amp;...</span> </span> <span class=\"qXLe6d F9iS2e\"> <span class=\"fYyStc\">www.biography.com</span> </span> </div></a></td></tr></table></div></div> </div> </div></td><td align=\"center\" class=\"e3goi\"><div class=\"jjVJ4e\"> <div> <div class=\"lIMUZd\"><div><table class=\"RntSmf\"><tr><td><a href=\"/url?q=https://economictimes.indiatimes.com/tech/technology/i-will-keep-supporting-dogecoin-tweets-tesla-ceo-elon-musk/articleshow/92318076.cms&amp;sa=U&amp;ved=2ahUKEwi-lNqEs46CAxXs8jgGHQ0JAWgQqoUBegQICBAB&amp;usg=AOvVaw0uzxDqX5IT7xcwhTMEzosw\"><div class=\"kCmkOe\"><img alt=\"\" class=\"DS1iW\" src=\"https://encrypted-tbn0.gstatic.com/images?q=tbn:ANd9GcTOF8efOHKVzTSqeuIiGAW8-2zY1XuzemPDZJ1O_DhhLwpwCxql4OGR1jFyIA&amp;s\"/></div></a></td></tr><tr><td><a href=\"/url?q=https://economictimes.indiatimes.com/tech/technology/i-will-keep-supporting-dogecoin-tweets-tesla-ceo-elon-musk/articleshow/92318076.cms&amp;sa=U&amp;ved=2ahUKEwi-lNqEs46CAxXs8jgGHQ0JAWgQr4kDegQICBAC&amp;usg=AOvVaw1BcRrwLUu2V6tjBppIXPtQ\"><div class=\"AlD19d\"> <span class=\"qXLe6d x3G5ab\"> <span class=\"fYyStc\">Dogecoin | Elon Musk: I...</span> </span> <span class=\"qXLe6d F9iS2e\"> <span class=\"fYyStc\">economictimes.indiatimes.co...</span> </span> </div></a></td></tr></table></div></div> </div> </div></td><td align=\"center\" class=\"e3goi\"><div class=\"jjVJ4e\"> <div> <div class=\"lIMUZd\"><div><table class=\"RntSmf\"><tr><td><a href=\"/url?q=https://www.livemint.com/web-stories/5-tips-by-elon-musk-for-younger-generation-11693721028058.html&amp;sa=U&amp;ved=2ahUKEwi-lNqEs46CAxXs8jgGHQ0JAWgQqoUBegQIBBAB&amp;usg=AOvVaw0fclvSIcd7fwMfJkuJrW5n\"><div class=\"kCmkOe\"><img alt=\"\" class=\"DS1iW\" src=\"https://encrypted-tbn0.gstatic.com/images?q=tbn:ANd9GcQpW557bpiu1cONr5nxu042mw7D6ZjF3ndd2-RtBgU7Lvs8BqmeN1uuV8sHrBU&amp;s\"/></div></a></td></tr><tr><td><a href=\"/url?q=https://www.livemint.com/web-stories/5-tips-by-elon-musk-for-younger-generation-11693721028058.html&amp;sa=U&amp;ved=2ahUKEwi-lNqEs46CAxXs8jgGHQ0JAWgQr4kDegQIBBAC&amp;usg=AOvVaw2PmRrV9C_6SqoTZycfWMS1\"><div class=\"AlD19d\"> <span class=\"qXLe6d x3G5ab\"> <span class=\"fYyStc\">5 Tips by Elon Musk for...</span> </span> <span class=\"qXLe6d F9iS2e\"> <span class=\"fYyStc\">www.livemint.com</span> </span> </div></a></td></tr></table></div></div> </div> </div></td></tr><tr><td align=\"center\" class=\"e3goi\"><div class=\"jjVJ4e\"> <div> <div class=\"lIMUZd\"><div><table class=\"RntSmf\"><tr><td><a href=\"/url?q=https://www.investopedia.com/articles/personal-finance/061015/how-elon-musk-became-elon-musk.asp&amp;sa=U&amp;ved=2ahUKEwi-lNqEs46CAxXs8jgGHQ0JAWgQqoUBegQIABAB&amp;usg=AOvVaw3mXqJ-9Mpb8N0z3yvZvBl_\"><div class=\"kCmkOe\"><img alt=\"\" class=\"DS1iW\" src=\"https://encrypted-tbn0.gstatic.com/images?q=tbn:ANd9GcRxf-Jbkdb6IZIh7oNtWyJhYtw3Kg80gamyGyRHZS8klkCrAzThS_D2ymM47A&amp;s\"/></div></a></td></tr><tr><td><a href=\"/url?q=https://www.investopedia.com/articles/personal-finance/061015/how-elon-musk-became-elon-musk.asp&amp;sa=U&amp;ved=2ahUKEwi-lNqEs46CAxXs8jgGHQ0JAWgQr4kDegQIABAC&amp;usg=AOvVaw3IoxbCg9Hvj6vyR5-MuSa4\"><div class=\"AlD19d\"> <span class=\"qXLe6d x3G5ab\"> <span class=\"fYyStc\">Who Is Elon Musk?</span> </span> <span class=\"qXLe6d F9iS2e\"> <span class=\"fYyStc\">www.investopedia.com</span> </span> </div></a></td></tr></table></div></div> </div> </div></td><td align=\"center\" class=\"e3goi\"><div class=\"jjVJ4e\"> <div> <div class=\"lIMUZd\"><div><table class=\"RntSmf\"><tr><td><a href=\"/url?q=https://www.rollingstone.com/culture/culture-news/elon-musk-says-find-new-twitter-ceo-2023-1234680357/&amp;sa=U&amp;ved=2ahUKEwi-lNqEs46CAxXs8jgGHQ0JAWgQqoUBegQIAhAB&amp;usg=AOvVaw0YLvDPP3OcoDX9E6ELpR3h\"><div class=\"kCmkOe\"><img alt=\"\" class=\"DS1iW\" src=\"https://encrypted-tbn0.gstatic.com/images?q=tbn:ANd9GcSwq0dm9LsIJFXhVpVi2-xb2VQSTdG7Tb92l9AIyKFFgrYonh1FnTbuvi-3Cw&amp;s\"/></div></a></td></tr><tr><td><a href=\"/url?q=https://www.rollingstone.com/culture/culture-news/elon-musk-says-find-new-twitter-ceo-2023-1234680357/&amp;sa=U&amp;ved=2ahUKEwi-lNqEs46CAxXs8jgGHQ0JAWgQr4kDegQIAhAC&amp;usg=AOvVaw0B8XKFXQ7eHYnW4jhMkIdj\"><div class=\"AlD19d\"> <span class=\"qXLe6d x3G5ab\"> <span class=\"fYyStc\">Elon Musk Says He Wants New...</span> </span> <span class=\"qXLe6d F9iS2e\"> <span class=\"fYyStc\">www.rollingstone.com</span> </span> </div></a></td></tr></table></div></div> </div> </div></td><td align=\"center\" class=\"e3goi\"><div class=\"jjVJ4e\"> <div> <div class=\"lIMUZd\"><div><table class=\"RntSmf\"><tr><td><a href=\"/url?q=https://m.timesofindia.com/life-style/books/web-stories/elon-musk-7-books-that-influenced-him/photostory/101782728.cms&amp;sa=U&amp;ved=2ahUKEwi-lNqEs46CAxXs8jgGHQ0JAWgQqoUBegQIBRAB&amp;usg=AOvVaw0sGypqsFhhzgq8PMn0hdWY\"><div class=\"kCmkOe\"><img alt=\"\" class=\"DS1iW\" src=\"https://encrypted-tbn0.gstatic.com/images?q=tbn:ANd9GcRiilXHpTeAyxIqrl2BA4FLqBR2tJ9A_DZZ6r0gKmd3RtL4Ct1WtKHZ6HIvzw&amp;s\"/></div></a></td></tr><tr><td><a href=\"/url?q=https://m.timesofindia.com/life-style/books/web-stories/elon-musk-7-books-that-influenced-him/photostory/101782728.cms&amp;sa=U&amp;ved=2ahUKEwi-lNqEs46CAxXs8jgGHQ0JAWgQr4kDegQIBRAC&amp;usg=AOvVaw0JcKGZtM-YQRY1cGVzP4CB\"><div class=\"AlD19d\"> <span class=\"qXLe6d x3G5ab\"> <span class=\"fYyStc\">Elon Musk: 7 books that...</span> </span> <span class=\"qXLe6d F9iS2e\"> <span class=\"fYyStc\">m.timesofindia.com</span> </span> </div></a></td></tr></table></div></div> </div> </div></td><td align=\"center\" class=\"e3goi\"><div class=\"jjVJ4e\"> <div> <div class=\"lIMUZd\"><div><table class=\"RntSmf\"><tr><td><a href=\"/url?q=https://www.nbcnews.com/tech/tech-news/elon-musks-takes-x-handle-longtime-twitter-user-rcna96074&amp;sa=U&amp;ved=2ahUKEwi-lNqEs46CAxXs8jgGHQ0JAWgQqoUBegQIBhAB&amp;usg=AOvVaw3au8DXVj_CaS7zTd3Oo9GF\"><div class=\"kCmkOe\"><img alt=\"\" class=\"DS1iW\" src=\"https://encrypted-tbn0.gstatic.com/images?q=tbn:ANd9GcT1UV6OUS8_CAiSFAU-Czvx2ZFcQ9UW73kZZqCk15REE5Sy3aBYlhn4nmHIUw&amp;s\"/></div></a></td></tr><tr><td><a href=\"/url?q=https://www.nbcnews.com/tech/tech-news/elon-musks-takes-x-handle-longtime-twitter-user-rcna96074&amp;sa=U&amp;ved=2ahUKEwi-lNqEs46CAxXs8jgGHQ0JAWgQr4kDegQIBhAC&amp;usg=AOvVaw1gP_Imfp2xufQgvVB6BTwi\"><div class=\"AlD19d\"> <span class=\"qXLe6d x3G5ab\"> <span class=\"fYyStc\">Elon Musk's X takes @X...</span> </span> <span class=\"qXLe6d F9iS2e\"> <span class=\"fYyStc\">www.nbcnews.com</span> </span> </div></a></td></tr></table></div></div> </div> </div></td></tr></table></div><table class=\"uZgmoc\"><tbody><td><a class=\"frGj1b\" href=\"/search?q=elon+musk&amp;sca_esv=576056213&amp;hl=en&amp;biw=1536&amp;bih=707&amp;ie=UTF-8&amp;tbm=isch&amp;ei=EZI3Zf7HKuzl4-EPjZKEwAY&amp;start=20&amp;sa=N\">Next &gt;</a></td></tbody></table><br/><div class=\"TuS8Ad\" data-ved=\"0ahUKEwi-lNqEs46CAxXs8jgGHQ0JAWgQpyoIUg\"><style>.VYM29{font-weight:bold}</style><div align=\"center\" class=\"HddGcc\"><span class=\"VYM29\">Nagpur, Maharashtra</span><span> - </span><span>From your IP address</span><span> - </span><a href=\"/url?q=https://support.google.com/websearch%3Fp%3Dws_settings_location%26hl%3Den-IN&amp;opi=89978449&amp;sa=U&amp;ved=0ahUKEwi-lNqEs46CAxXs8jgGHQ0JAWgQty4IUw&amp;usg=AOvVaw2ZYmlxKxgj9M5fd0OLvmHk\">Learn more</a></div><div align=\"center\"><a class=\"rEM8G\" href=\"/url?q=https://accounts.google.com/ServiceLogin%3Fcontinue%3Dhttps://www.google.com/search%253Fq%253Delon%252Bmusk%2526sca_esv%253D576056213%2526hl%253Den%2526tbm%253Disch%2526source%253Dlnms%2526sa%253DX%2526ved%253D2ahUKEwjg1o3Yr46CAxXKklYBHX3TDoYQ_AUoAnoECAEQBA%2526cshid%253D1698139962104507%2526biw%253D1536%2526bih%253D707%2526dpr%253D1.25%26hl%3Den&amp;opi=89978449&amp;sa=U&amp;ved=0ahUKEwi-lNqEs46CAxXs8jgGHQ0JAWgQxs8CCFQ&amp;usg=AOvVaw05wrOxsKLN2WpG-yzhfQNX\">Sign in</a></div><div><table class=\"bookcf\"><tbody class=\"InWNIe\"><tr><td><a class=\"rEM8G\" href=\"https://www.google.com/preferences?hl=en&amp;sa=X&amp;ved=0ahUKEwi-lNqEs46CAxXs8jgGHQ0JAWgQv5YECFU\">Settings</a></td><td><a class=\"rEM8G\" href=\"https://www.google.com/intl/en_in/policies/privacy/\">Privacy</a></td><td><a class=\"rEM8G\" href=\"https://www.google.com/intl/en_in/policies/terms/\">Terms</a></td></tr></tbody></table></div></div><div> </div></body></html>"
      ]
     },
     "execution_count": 25,
     "metadata": {},
     "output_type": "execute_result"
    }
   ],
   "source": [
    "soup"
   ]
  },
  {
   "cell_type": "code",
   "execution_count": 28,
   "id": "dde09b6a",
   "metadata": {},
   "outputs": [],
   "source": [
    "image_tags=soup.find_all(\"img\")"
   ]
  },
  {
   "cell_type": "code",
   "execution_count": 32,
   "id": "ea167a1f",
   "metadata": {},
   "outputs": [],
   "source": [
    "del image_tags[0]"
   ]
  },
  {
   "cell_type": "code",
   "execution_count": 33,
   "id": "9dc9462c",
   "metadata": {},
   "outputs": [
    {
     "data": {
      "text/plain": [
       "[<img alt=\"\" class=\"DS1iW\" src=\"https://encrypted-tbn0.gstatic.com/images?q=tbn:ANd9GcSC7st5ShUDWADPVkP7Pr0Py1KtnzUAtUAXgpqtCzbirxLvz3BhjH-CNqBm3PE&amp;s\"/>,\n",
       " <img alt=\"\" class=\"DS1iW\" src=\"https://encrypted-tbn0.gstatic.com/images?q=tbn:ANd9GcRz-uP5ZNLPcT_0NN-9PUKWg2kpbYbnMybBYHR5FQ8GfZhPLV1DL0AdSRMC0A&amp;s\"/>,\n",
       " <img alt=\"\" class=\"DS1iW\" src=\"https://encrypted-tbn0.gstatic.com/images?q=tbn:ANd9GcQ91bYeYuNi93Snai-G61-ct5IkXUEpoeW1RpiOFFuRWggNeJf-7uN0OZsy5XI&amp;s\"/>,\n",
       " <img alt=\"\" class=\"DS1iW\" src=\"https://encrypted-tbn0.gstatic.com/images?q=tbn:ANd9GcS6mPr1g683xgMlTnJfswzPyIjixDUJCLKR_GUOYd43dGj0LB8Uum64r_cOjl4&amp;s\"/>,\n",
       " <img alt=\"\" class=\"DS1iW\" src=\"https://encrypted-tbn0.gstatic.com/images?q=tbn:ANd9GcQY_R5NSNoZkSlMo3hf86COGJ4fCv0s6Nx4k8uCGkWc6YGOn_m4-rIOQ3GhOhg&amp;s\"/>,\n",
       " <img alt=\"\" class=\"DS1iW\" src=\"https://encrypted-tbn0.gstatic.com/images?q=tbn:ANd9GcQXNS5G3mbD-dKcWQ_dfdmEN7nP9tS159qmk666X5ThE40niKI7hB4rzC-obgU&amp;s\"/>,\n",
       " <img alt=\"\" class=\"DS1iW\" src=\"https://encrypted-tbn0.gstatic.com/images?q=tbn:ANd9GcQaV7Sae1fG40nqL4bBbt2RhLdbGzhHQkRLbMXbgiM8UhHfS9q1a6zLDQgzgIA&amp;s\"/>,\n",
       " <img alt=\"\" class=\"DS1iW\" src=\"https://encrypted-tbn0.gstatic.com/images?q=tbn:ANd9GcTZMlyvCY8vz7fnBapM-PlJJ98Fjuge8gjD0ccQv6OZFLf0AukDECQCSSFNgLM&amp;s\"/>,\n",
       " <img alt=\"\" class=\"DS1iW\" src=\"https://encrypted-tbn0.gstatic.com/images?q=tbn:ANd9GcTfjDBSFpfbFc6eTBoYM7jYZwkO-F4FBddeRlmz_8fBWXOHtEnGleF5higjr1E&amp;s\"/>,\n",
       " <img alt=\"\" class=\"DS1iW\" src=\"https://encrypted-tbn0.gstatic.com/images?q=tbn:ANd9GcSqPTro4aFCG4Q0meJtTUD6hTHpOB9ftUxTMg-qO5j6SpFoO0VBXPCOhQVOpa8&amp;s\"/>,\n",
       " <img alt=\"\" class=\"DS1iW\" src=\"https://encrypted-tbn0.gstatic.com/images?q=tbn:ANd9GcQEoGcTehPfBt44vuvC8wyJieRSiGKWqDO2UHbGG34cRttKR5nGr_NDLJHg_1s&amp;s\"/>,\n",
       " <img alt=\"\" class=\"DS1iW\" src=\"https://encrypted-tbn0.gstatic.com/images?q=tbn:ANd9GcTdE_Bh1hrPdBpcb2uRNA3hWXqPoXQkYA_8PYTSUorFS7kkMRiiYfd_pS7cNnM&amp;s\"/>,\n",
       " <img alt=\"\" class=\"DS1iW\" src=\"https://encrypted-tbn0.gstatic.com/images?q=tbn:ANd9GcQLX6huxvMD0JGqh3jnWiYWG50itISJVGqnuJzZAWTIeXgxpgAQYZE460Nulg&amp;s\"/>,\n",
       " <img alt=\"\" class=\"DS1iW\" src=\"https://encrypted-tbn0.gstatic.com/images?q=tbn:ANd9GcSWquD3V9PShopfxR5z4mBgB3IZnXGWVDSQM_48N0nbiI_0DYg43GVIktea3Uc&amp;s\"/>,\n",
       " <img alt=\"\" class=\"DS1iW\" src=\"https://encrypted-tbn0.gstatic.com/images?q=tbn:ANd9GcTOF8efOHKVzTSqeuIiGAW8-2zY1XuzemPDZJ1O_DhhLwpwCxql4OGR1jFyIA&amp;s\"/>,\n",
       " <img alt=\"\" class=\"DS1iW\" src=\"https://encrypted-tbn0.gstatic.com/images?q=tbn:ANd9GcQpW557bpiu1cONr5nxu042mw7D6ZjF3ndd2-RtBgU7Lvs8BqmeN1uuV8sHrBU&amp;s\"/>,\n",
       " <img alt=\"\" class=\"DS1iW\" src=\"https://encrypted-tbn0.gstatic.com/images?q=tbn:ANd9GcRxf-Jbkdb6IZIh7oNtWyJhYtw3Kg80gamyGyRHZS8klkCrAzThS_D2ymM47A&amp;s\"/>,\n",
       " <img alt=\"\" class=\"DS1iW\" src=\"https://encrypted-tbn0.gstatic.com/images?q=tbn:ANd9GcSwq0dm9LsIJFXhVpVi2-xb2VQSTdG7Tb92l9AIyKFFgrYonh1FnTbuvi-3Cw&amp;s\"/>,\n",
       " <img alt=\"\" class=\"DS1iW\" src=\"https://encrypted-tbn0.gstatic.com/images?q=tbn:ANd9GcRiilXHpTeAyxIqrl2BA4FLqBR2tJ9A_DZZ6r0gKmd3RtL4Ct1WtKHZ6HIvzw&amp;s\"/>,\n",
       " <img alt=\"\" class=\"DS1iW\" src=\"https://encrypted-tbn0.gstatic.com/images?q=tbn:ANd9GcT1UV6OUS8_CAiSFAU-Czvx2ZFcQ9UW73kZZqCk15REE5Sy3aBYlhn4nmHIUw&amp;s\"/>]"
      ]
     },
     "execution_count": 33,
     "metadata": {},
     "output_type": "execute_result"
    }
   ],
   "source": [
    "image_tags"
   ]
  },
  {
   "cell_type": "code",
   "execution_count": 34,
   "id": "eb84e7fa",
   "metadata": {},
   "outputs": [
    {
     "data": {
      "text/plain": [
       "20"
      ]
     },
     "execution_count": 34,
     "metadata": {},
     "output_type": "execute_result"
    }
   ],
   "source": [
    "len(image_tags)"
   ]
  },
  {
   "cell_type": "code",
   "execution_count": 37,
   "id": "eeb902e2",
   "metadata": {},
   "outputs": [
    {
     "name": "stdout",
     "output_type": "stream",
     "text": [
      "0\n",
      "1\n",
      "2\n",
      "3\n",
      "4\n",
      "5\n",
      "6\n",
      "7\n",
      "8\n",
      "9\n",
      "10\n",
      "11\n",
      "12\n",
      "13\n",
      "14\n",
      "15\n",
      "16\n",
      "17\n",
      "18\n",
      "19\n"
     ]
    }
   ],
   "source": [
    "for i in image_tags:\n",
    "    print(image_tags.index(i))"
   ]
  },
  {
   "cell_type": "code",
   "execution_count": 36,
   "id": "299bc6f9",
   "metadata": {},
   "outputs": [
    {
     "name": "stdout",
     "output_type": "stream",
     "text": [
      "https://encrypted-tbn0.gstatic.com/images?q=tbn:ANd9GcSC7st5ShUDWADPVkP7Pr0Py1KtnzUAtUAXgpqtCzbirxLvz3BhjH-CNqBm3PE&s\n",
      "https://encrypted-tbn0.gstatic.com/images?q=tbn:ANd9GcRz-uP5ZNLPcT_0NN-9PUKWg2kpbYbnMybBYHR5FQ8GfZhPLV1DL0AdSRMC0A&s\n",
      "https://encrypted-tbn0.gstatic.com/images?q=tbn:ANd9GcQ91bYeYuNi93Snai-G61-ct5IkXUEpoeW1RpiOFFuRWggNeJf-7uN0OZsy5XI&s\n",
      "https://encrypted-tbn0.gstatic.com/images?q=tbn:ANd9GcS6mPr1g683xgMlTnJfswzPyIjixDUJCLKR_GUOYd43dGj0LB8Uum64r_cOjl4&s\n",
      "https://encrypted-tbn0.gstatic.com/images?q=tbn:ANd9GcQY_R5NSNoZkSlMo3hf86COGJ4fCv0s6Nx4k8uCGkWc6YGOn_m4-rIOQ3GhOhg&s\n",
      "https://encrypted-tbn0.gstatic.com/images?q=tbn:ANd9GcQXNS5G3mbD-dKcWQ_dfdmEN7nP9tS159qmk666X5ThE40niKI7hB4rzC-obgU&s\n",
      "https://encrypted-tbn0.gstatic.com/images?q=tbn:ANd9GcQaV7Sae1fG40nqL4bBbt2RhLdbGzhHQkRLbMXbgiM8UhHfS9q1a6zLDQgzgIA&s\n",
      "https://encrypted-tbn0.gstatic.com/images?q=tbn:ANd9GcTZMlyvCY8vz7fnBapM-PlJJ98Fjuge8gjD0ccQv6OZFLf0AukDECQCSSFNgLM&s\n",
      "https://encrypted-tbn0.gstatic.com/images?q=tbn:ANd9GcTfjDBSFpfbFc6eTBoYM7jYZwkO-F4FBddeRlmz_8fBWXOHtEnGleF5higjr1E&s\n",
      "https://encrypted-tbn0.gstatic.com/images?q=tbn:ANd9GcSqPTro4aFCG4Q0meJtTUD6hTHpOB9ftUxTMg-qO5j6SpFoO0VBXPCOhQVOpa8&s\n",
      "https://encrypted-tbn0.gstatic.com/images?q=tbn:ANd9GcQEoGcTehPfBt44vuvC8wyJieRSiGKWqDO2UHbGG34cRttKR5nGr_NDLJHg_1s&s\n",
      "https://encrypted-tbn0.gstatic.com/images?q=tbn:ANd9GcTdE_Bh1hrPdBpcb2uRNA3hWXqPoXQkYA_8PYTSUorFS7kkMRiiYfd_pS7cNnM&s\n",
      "https://encrypted-tbn0.gstatic.com/images?q=tbn:ANd9GcQLX6huxvMD0JGqh3jnWiYWG50itISJVGqnuJzZAWTIeXgxpgAQYZE460Nulg&s\n",
      "https://encrypted-tbn0.gstatic.com/images?q=tbn:ANd9GcSWquD3V9PShopfxR5z4mBgB3IZnXGWVDSQM_48N0nbiI_0DYg43GVIktea3Uc&s\n",
      "https://encrypted-tbn0.gstatic.com/images?q=tbn:ANd9GcTOF8efOHKVzTSqeuIiGAW8-2zY1XuzemPDZJ1O_DhhLwpwCxql4OGR1jFyIA&s\n",
      "https://encrypted-tbn0.gstatic.com/images?q=tbn:ANd9GcQpW557bpiu1cONr5nxu042mw7D6ZjF3ndd2-RtBgU7Lvs8BqmeN1uuV8sHrBU&s\n",
      "https://encrypted-tbn0.gstatic.com/images?q=tbn:ANd9GcRxf-Jbkdb6IZIh7oNtWyJhYtw3Kg80gamyGyRHZS8klkCrAzThS_D2ymM47A&s\n",
      "https://encrypted-tbn0.gstatic.com/images?q=tbn:ANd9GcSwq0dm9LsIJFXhVpVi2-xb2VQSTdG7Tb92l9AIyKFFgrYonh1FnTbuvi-3Cw&s\n",
      "https://encrypted-tbn0.gstatic.com/images?q=tbn:ANd9GcRiilXHpTeAyxIqrl2BA4FLqBR2tJ9A_DZZ6r0gKmd3RtL4Ct1WtKHZ6HIvzw&s\n",
      "https://encrypted-tbn0.gstatic.com/images?q=tbn:ANd9GcT1UV6OUS8_CAiSFAU-Czvx2ZFcQ9UW73kZZqCk15REE5Sy3aBYlhn4nmHIUw&s\n"
     ]
    }
   ],
   "source": [
    "for i in image_tags:\n",
    "    print(i['src'])"
   ]
  },
  {
   "cell_type": "code",
   "execution_count": 50,
   "id": "a4f21428",
   "metadata": {},
   "outputs": [],
   "source": [
    "for i in image_tags:\n",
    "    image_url=i['src']\n",
    "    image_data=requests.get(image_url).content\n",
    "    with open(os.path.join(save_dir,f\"{query}_{image_tags.index(i)}.jpg\"),\"wb\") as f:\n",
    "              f.write(image_data)"
   ]
  },
  {
   "cell_type": "code",
   "execution_count": null,
   "id": "be86588c",
   "metadata": {},
   "outputs": [],
   "source": []
  }
 ],
 "metadata": {
  "kernelspec": {
   "display_name": "Python 3 (ipykernel)",
   "language": "python",
   "name": "python3"
  },
  "language_info": {
   "codemirror_mode": {
    "name": "ipython",
    "version": 3
   },
   "file_extension": ".py",
   "mimetype": "text/x-python",
   "name": "python",
   "nbconvert_exporter": "python",
   "pygments_lexer": "ipython3",
   "version": "3.10.9"
  }
 },
 "nbformat": 4,
 "nbformat_minor": 5
}
